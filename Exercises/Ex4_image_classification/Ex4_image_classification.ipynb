{
  "cells": [
    {
      "cell_type": "markdown",
      "metadata": {
        "id": "pGt8tr61rUzL"
      },
      "source": [
        "In this assignment, you need to develop, train and test a model that identifies whether there are sunglasses in a face image. The data Is taken from UCI datasets (https://archive.ics.uci.edu/ml/datasets/CMU+Face+Images)."
      ]
    },
    {
      "cell_type": "markdown",
      "metadata": {
        "id": "STwJ3A-Arooq"
      },
      "source": [
        "The samples are given in two folders matching the two classes. You need to develop a CNN model. \n",
        "Use the concepts we learn in class: train/validation/test split, grid-search, cross-validation, etc."
      ]
    },
    {
      "cell_type": "markdown",
      "metadata": {
        "id": "xPP5EbvDrn9b"
      },
      "source": [
        "Your submission should be a jupyter notebook that has the next sections:\n",
        "Loading the data (clean, transform if needed). Then train the models to search for optimal hyperparameters.\n",
        "Finally, report the performance on the test set (think what should be the  evaluation metric(s)).\n"
      ]
    },
    {
      "cell_type": "markdown",
      "metadata": {
        "id": "catxqVnjruFn"
      },
      "source": [
        "Answer the next questions:\n",
        "1. Does the model overfit?\n",
        "2. What's the effect of batch size? In general, do you see this effect in the current task?\n",
        "3. What was the optimal optimizer? Explain."
      ]
    },
    {
      "cell_type": "markdown",
      "metadata": {
        "id": "KfdwZ-JSu-C0"
      },
      "source": [
        "# Imports"
      ]
    },
    {
      "cell_type": "code",
      "execution_count": 75,
      "metadata": {
        "id": "bZ3gYyzrvA-D"
      },
      "outputs": [],
      "source": [
        "import cv2\n",
        "import os\n",
        "import numpy as np\n",
        "import tensorflow as tf\n",
        "import pandas as pd\n",
        "import matplotlib.pyplot as plt \n",
        "from sklearn.model_selection import train_test_split\n",
        "from keras import datasets, layers, models\n",
        "from sklearn.model_selection import GridSearchCV\n",
        "from keras.wrappers.scikit_learn import KerasClassifier"
      ]
    },
    {
      "cell_type": "markdown",
      "metadata": {
        "id": "KuhBXZZps5_6"
      },
      "source": [
        "# Load data"
      ]
    },
    {
      "cell_type": "code",
      "execution_count": null,
      "metadata": {
        "id": "79ahEINcrQ2C"
      },
      "outputs": [],
      "source": [
        "IMG_WIDTH=32\n",
        "IMG_HEIGHT=30\n",
        "IMG_FOLDER=r'Data/'\n",
        "def create_dataset(img_folder):\n",
        "  img_data_array=[]\n",
        "  class_name=[]\n",
        "\n",
        "  for dir1 in os.listdir(img_folder):\n",
        "    for file in os.listdir(os.path.join(img_folder, dir1)):\n",
        "      image_path = os.path.join(img_folder, dir1, file)\n",
        "      image = cv2.imread( image_path, cv2.COLOR_BGR2RGB)\n",
        "      image = cv2.resize(image, (IMG_HEIGHT, IMG_WIDTH), \n",
        "                        interpolation = cv2.INTER_AREA)\n",
        "      image = np.array(image)\n",
        "      image = image.astype('float32')\n",
        "      image /= 255\n",
        "      img_data_array.append(image)\n",
        "      class_name.append(dir1)\n",
        "  return img_data_array, class_name\n",
        "\n",
        "# Extract the image array and class name\n",
        "img_data, class_name = create_dataset(IMG_FOLDER)\n",
        "target_dict={k: v for v, k in enumerate(np.unique(class_name))}\n",
        "# Convert the class_names to their respective numeric value based on the dictionary\n",
        "target_val = [target_dict[class_name[i]] for i in range(len(class_name))]\n",
        "# Convert to X - a 3d array (samples, width, height) and y - 0/1\n",
        "X = tf.cast(np.array(img_data), tf.float64)\n",
        "y = tf.cast(list(map(int,target_val)),tf.int32)"
      ]
    },
    {
      "cell_type": "markdown",
      "metadata": {
        "id": "5wD536HVs8T0"
      },
      "source": [
        "# Process and transform the data"
      ]
    },
    {
      "cell_type": "code",
      "execution_count": null,
      "metadata": {
        "id": "ZgwKRGoutEay"
      },
      "outputs": [],
      "source": [
        "# casting to np\n",
        "x_data = X.numpy()\n",
        "y_data = y.numpy()\n",
        "# Set the random seed\n",
        "random_seed = 42\n",
        "#split the data for train and test\n",
        "X_train, X_test, y_train, y_test = train_test_split(x_data,y_data,test_size=0.1, random_state=random_seed)"
      ]
    },
    {
      "cell_type": "code",
      "execution_count": null,
      "metadata": {
        "colab": {
          "base_uri": "https://localhost:8080/"
        },
        "id": "mYL3oJyweez7",
        "outputId": "6bf11a8d-24ff-4011-abb9-9a81a68f66ab"
      },
      "outputs": [
        {
          "name": "stdout",
          "output_type": "stream",
          "text": [
            "X_train image size: (32, 30)\n"
          ]
        }
      ],
      "source": [
        "print(f\"X_train image size: {X_train[0].shape}\")"
      ]
    },
    {
      "cell_type": "code",
      "execution_count": null,
      "metadata": {
        "colab": {
          "base_uri": "https://localhost:8080/"
        },
        "id": "qiTRtlU5fEcQ",
        "outputId": "1808784f-3200-402a-a724-e503fc780335"
      },
      "outputs": [
        {
          "data": {
            "text/plain": [
              "(array([0, 1], dtype=int32), array([278, 283]))"
            ]
          },
          "execution_count": 7,
          "metadata": {},
          "output_type": "execute_result"
        }
      ],
      "source": [
        "np.unique(y_train, return_counts=True)"
      ]
    },
    {
      "cell_type": "code",
      "execution_count": null,
      "metadata": {
        "colab": {
          "base_uri": "https://localhost:8080/"
        },
        "id": "_ogApfySe9Dm",
        "outputId": "12aef83b-dffc-4f69-91db-ccb0b27d8f60"
      },
      "outputs": [
        {
          "data": {
            "text/plain": [
              "(32, 30, 1)"
            ]
          },
          "execution_count": 12,
          "metadata": {},
          "output_type": "execute_result"
        }
      ],
      "source": [
        "# Add another 1 chanel for black-white images\n",
        "input_shape = X_train[0].reshape(32, 30, -1)\n",
        "input_shape.shape"
      ]
    },
    {
      "cell_type": "code",
      "execution_count": null,
      "metadata": {
        "id": "OK-QxGGffRfq"
      },
      "outputs": [],
      "source": [
        "# Inpute shape (image_height, image_width, color_channels)\n",
        "input_shape = input_shape.shape\n"
      ]
    },
    {
      "cell_type": "markdown",
      "metadata": {
        "id": "urtE_Q-RtExc"
      },
      "source": [
        "# Train the model"
      ]
    },
    {
      "cell_type": "code",
      "execution_count": 82,
      "metadata": {
        "id": "K-DkIbTJtLif"
      },
      "outputs": [],
      "source": [
        "def cnn_model(optimizer= 'adam'):\n",
        "  # Create convolutional base\n",
        "  model = models.Sequential()\n",
        "  model.add(layers.Conv2D(filters=32, kernel_size=(3, 3), padding = 'Same',  activation='relu', input_shape=input_shape))\n",
        "  model.add(layers.MaxPooling2D(pool_size=(2, 2)))\n",
        "  model.add(layers.Conv2D(filters=64, kernel_size=(3, 3), padding = 'Same', activation='relu'))\n",
        "  model.add(layers.MaxPooling2D(pool_size=(2, 2)))\n",
        "  model.add(layers.Conv2D(filters=64, kernel_size=(3, 3), padding = 'Same', activation='relu'))\n",
        "  model.add(layers.Flatten())\n",
        "  model.add(layers.Dense(64, activation='relu'))\n",
        "  # model.add(layers.Dropout(0.05))\n",
        "  model.add(layers.Dense(2, activation='softmax'))\n",
        "  # Compile and train the model\n",
        "  model.compile(optimizer=optimizer,\n",
        "                loss='sparse_categorical_crossentropy',\n",
        "                metrics=['accuracy'])\n",
        "  return model"
      ]
    },
    {
      "cell_type": "code",
      "execution_count": 83,
      "metadata": {
        "colab": {
          "base_uri": "https://localhost:8080/"
        },
        "id": "XzYwVrhrwCPt",
        "outputId": "b0958d2d-7f69-451c-ef65-d3e185c2e27d"
      },
      "outputs": [
        {
          "name": "stderr",
          "output_type": "stream",
          "text": [
            "<ipython-input-83-3e25de317a76>:2: DeprecationWarning: KerasClassifier is deprecated, use Sci-Keras (https://github.com/adriangb/scikeras) instead. See https://www.adriangb.com/scikeras/stable/migration.html for help migrating.\n",
            "  model = KerasClassifier(cnn_model,epochs=20, verbose=1)\n"
          ]
        }
      ],
      "source": [
        "# create model\n",
        "model = KerasClassifier(cnn_model,epochs=20, verbose=1)"
      ]
    },
    {
      "cell_type": "code",
      "execution_count": 84,
      "metadata": {
        "colab": {
          "base_uri": "https://localhost:8080/"
        },
        "id": "wHWVmhQ9wF0V",
        "outputId": "00322a6d-ab03-4a14-8cff-61eb7943f8cc"
      },
      "outputs": [
        {
          "name": "stdout",
          "output_type": "stream",
          "text": [
            "Model: \"sequential_15\"\n",
            "_________________________________________________________________\n",
            " Layer (type)                Output Shape              Param #   \n",
            "=================================================================\n",
            " conv2d_45 (Conv2D)          (None, 32, 30, 32)        320       \n",
            "                                                                 \n",
            " max_pooling2d_30 (MaxPoolin  (None, 16, 15, 32)       0         \n",
            " g2D)                                                            \n",
            "                                                                 \n",
            " conv2d_46 (Conv2D)          (None, 16, 15, 64)        18496     \n",
            "                                                                 \n",
            " max_pooling2d_31 (MaxPoolin  (None, 8, 7, 64)         0         \n",
            " g2D)                                                            \n",
            "                                                                 \n",
            " conv2d_47 (Conv2D)          (None, 8, 7, 64)          36928     \n",
            "                                                                 \n",
            " flatten_15 (Flatten)        (None, 3584)              0         \n",
            "                                                                 \n",
            " dense_30 (Dense)            (None, 64)                229440    \n",
            "                                                                 \n",
            " dense_31 (Dense)            (None, 2)                 130       \n",
            "                                                                 \n",
            "=================================================================\n",
            "Total params: 285,314\n",
            "Trainable params: 285,314\n",
            "Non-trainable params: 0\n",
            "_________________________________________________________________\n"
          ]
        }
      ],
      "source": [
        "model.build_fn().summary()"
      ]
    },
    {
      "cell_type": "code",
      "execution_count": 85,
      "metadata": {
        "colab": {
          "base_uri": "https://localhost:8080/"
        },
        "id": "cmCJbNAWvK63",
        "outputId": "1bb1f8ca-8cee-4de9-82ec-a52e1b3acc35"
      },
      "outputs": [
        {
          "name": "stdout",
          "output_type": "stream",
          "text": [
            "Epoch 1/20\n",
            "18/18 [==============================] - 2s 65ms/step - loss: 0.6969 - accuracy: 0.5258\n",
            "Epoch 2/20\n",
            "18/18 [==============================] - 2s 111ms/step - loss: 0.6861 - accuracy: 0.6078\n",
            "Epoch 3/20\n",
            "18/18 [==============================] - 2s 100ms/step - loss: 0.6286 - accuracy: 0.7023\n",
            "Epoch 4/20\n",
            "18/18 [==============================] - 1s 66ms/step - loss: 0.4760 - accuracy: 0.7736\n",
            "Epoch 5/20\n",
            "18/18 [==============================] - 1s 82ms/step - loss: 0.3795 - accuracy: 0.8431\n",
            "Epoch 6/20\n",
            "18/18 [==============================] - 2s 97ms/step - loss: 0.2852 - accuracy: 0.8841\n",
            "Epoch 7/20\n",
            "18/18 [==============================] - 1s 63ms/step - loss: 0.2162 - accuracy: 0.9305\n",
            "Epoch 8/20\n",
            "18/18 [==============================] - 1s 66ms/step - loss: 0.1822 - accuracy: 0.9269\n",
            "Epoch 9/20\n",
            "18/18 [==============================] - 1s 65ms/step - loss: 0.1295 - accuracy: 0.9590\n",
            "Epoch 10/20\n",
            "18/18 [==============================] - 1s 64ms/step - loss: 0.1234 - accuracy: 0.9590\n",
            "Epoch 11/20\n",
            "18/18 [==============================] - 1s 66ms/step - loss: 0.0855 - accuracy: 0.9733\n",
            "Epoch 12/20\n",
            "18/18 [==============================] - 1s 67ms/step - loss: 0.0861 - accuracy: 0.9715\n",
            "Epoch 13/20\n",
            "18/18 [==============================] - 1s 69ms/step - loss: 0.0531 - accuracy: 0.9875\n",
            "Epoch 14/20\n",
            "18/18 [==============================] - 1s 67ms/step - loss: 0.0412 - accuracy: 0.9893\n",
            "Epoch 15/20\n",
            "18/18 [==============================] - 1s 62ms/step - loss: 0.0528 - accuracy: 0.9750\n",
            "Epoch 16/20\n",
            "18/18 [==============================] - 1s 67ms/step - loss: 0.0506 - accuracy: 0.9875\n",
            "Epoch 17/20\n",
            "18/18 [==============================] - 1s 64ms/step - loss: 0.0200 - accuracy: 0.9929\n",
            "Epoch 18/20\n",
            "18/18 [==============================] - 1s 65ms/step - loss: 0.0129 - accuracy: 1.0000\n",
            "Epoch 19/20\n",
            "18/18 [==============================] - 1s 66ms/step - loss: 0.0090 - accuracy: 1.0000\n",
            "Epoch 20/20\n",
            "18/18 [==============================] - 1s 67ms/step - loss: 0.0069 - accuracy: 1.0000\n"
          ]
        }
      ],
      "source": [
        "# define parameters and values for grid search \n",
        "param_grid = {'optimizer' :  ['SGD', 'adam', 'Nadam']}\n",
        "grid = GridSearchCV(estimator=model, param_grid=param_grid, n_jobs = -1, cv = 5).fit(X_train, y_train)"
      ]
    },
    {
      "cell_type": "code",
      "execution_count": 86,
      "metadata": {
        "colab": {
          "base_uri": "https://localhost:8080/"
        },
        "id": "xJR3U51nweKJ",
        "outputId": "d31c604b-fe93-4355-c04b-e944a88299ae"
      },
      "outputs": [
        {
          "data": {
            "text/plain": [
              "{'optimizer': 'adam'}"
            ]
          },
          "execution_count": 86,
          "metadata": {},
          "output_type": "execute_result"
        }
      ],
      "source": [
        "# best parameters - best optimizer\n",
        "grid.best_params_"
      ]
    },
    {
      "cell_type": "code",
      "execution_count": 90,
      "metadata": {
        "colab": {
          "base_uri": "https://localhost:8080/"
        },
        "id": "dsp81BqezWe2",
        "outputId": "f47d251a-a056-40ba-8468-ff225a24c5ce"
      },
      "outputs": [
        {
          "name": "stdout",
          "output_type": "stream",
          "text": [
            "Epoch 1/20\n",
            "18/18 [==============================] - 2s 79ms/step - loss: 0.6851 - accuracy: 0.5775 - val_loss: 0.6692 - val_accuracy: 0.6032\n",
            "Epoch 2/20\n",
            "18/18 [==============================] - 1s 77ms/step - loss: 0.5908 - accuracy: 0.7077 - val_loss: 0.5271 - val_accuracy: 0.7143\n",
            "Epoch 3/20\n",
            "18/18 [==============================] - 2s 112ms/step - loss: 0.4115 - accuracy: 0.7914 - val_loss: 0.3369 - val_accuracy: 0.8571\n",
            "Epoch 4/20\n",
            "18/18 [==============================] - 3s 170ms/step - loss: 0.2902 - accuracy: 0.8752 - val_loss: 0.2674 - val_accuracy: 0.8889\n",
            "Epoch 5/20\n",
            "18/18 [==============================] - 2s 111ms/step - loss: 0.2936 - accuracy: 0.8734 - val_loss: 0.3011 - val_accuracy: 0.8095\n",
            "Epoch 6/20\n",
            "18/18 [==============================] - 3s 149ms/step - loss: 0.1977 - accuracy: 0.9251 - val_loss: 0.3262 - val_accuracy: 0.8254\n",
            "Epoch 7/20\n",
            "18/18 [==============================] - 1s 72ms/step - loss: 0.1726 - accuracy: 0.9430 - val_loss: 0.2569 - val_accuracy: 0.9206\n",
            "Epoch 8/20\n",
            "18/18 [==============================] - 1s 71ms/step - loss: 0.1119 - accuracy: 0.9661 - val_loss: 0.0957 - val_accuracy: 0.9841\n",
            "Epoch 9/20\n",
            "18/18 [==============================] - 1s 71ms/step - loss: 0.0830 - accuracy: 0.9750 - val_loss: 0.0967 - val_accuracy: 0.9524\n",
            "Epoch 10/20\n",
            "18/18 [==============================] - 1s 74ms/step - loss: 0.0652 - accuracy: 0.9786 - val_loss: 0.1923 - val_accuracy: 0.9524\n",
            "Epoch 11/20\n",
            "18/18 [==============================] - 1s 71ms/step - loss: 0.0490 - accuracy: 0.9857 - val_loss: 0.0451 - val_accuracy: 1.0000\n",
            "Epoch 12/20\n",
            "18/18 [==============================] - 1s 67ms/step - loss: 0.0465 - accuracy: 0.9875 - val_loss: 0.0878 - val_accuracy: 0.9683\n",
            "Epoch 13/20\n",
            "18/18 [==============================] - 1s 67ms/step - loss: 0.0398 - accuracy: 0.9911 - val_loss: 0.0880 - val_accuracy: 0.9841\n",
            "Epoch 14/20\n",
            "18/18 [==============================] - 1s 66ms/step - loss: 0.0258 - accuracy: 0.9947 - val_loss: 0.0330 - val_accuracy: 0.9841\n",
            "Epoch 15/20\n",
            "18/18 [==============================] - 1s 68ms/step - loss: 0.0152 - accuracy: 1.0000 - val_loss: 0.0925 - val_accuracy: 0.9524\n",
            "Epoch 16/20\n",
            "18/18 [==============================] - 1s 66ms/step - loss: 0.0112 - accuracy: 1.0000 - val_loss: 0.0671 - val_accuracy: 0.9683\n",
            "Epoch 17/20\n",
            "18/18 [==============================] - 1s 70ms/step - loss: 0.0099 - accuracy: 1.0000 - val_loss: 0.0424 - val_accuracy: 0.9683\n",
            "Epoch 18/20\n",
            "18/18 [==============================] - 1s 72ms/step - loss: 0.0086 - accuracy: 1.0000 - val_loss: 0.0564 - val_accuracy: 0.9683\n",
            "Epoch 19/20\n",
            "18/18 [==============================] - 1s 72ms/step - loss: 0.0057 - accuracy: 1.0000 - val_loss: 0.0726 - val_accuracy: 0.9683\n",
            "Epoch 20/20\n",
            "18/18 [==============================] - 1s 67ms/step - loss: 0.0039 - accuracy: 1.0000 - val_loss: 0.0325 - val_accuracy: 0.9841\n"
          ]
        }
      ],
      "source": [
        "history = grid.best_estimator_.fit(X_train, y_train, epochs=20, \n",
        "                    validation_data=(X_test, y_test))"
      ]
    },
    {
      "cell_type": "markdown",
      "metadata": {
        "id": "_aH5LzhZtL-3"
      },
      "source": [
        "# Test the model performance"
      ]
    },
    {
      "cell_type": "code",
      "execution_count": 96,
      "metadata": {
        "id": "jaeUI6AW1J9t"
      },
      "outputs": [],
      "source": [
        "def loss_func(y_true, y_pred):\n",
        "    diff = np.abs(y_true - y_pred).max()\n",
        "    return np.log1p(diff)"
      ]
    },
    {
      "cell_type": "code",
      "execution_count": 100,
      "metadata": {
        "colab": {
          "base_uri": "https://localhost:8080/"
        },
        "id": "gj92IMlK0Lc8",
        "outputId": "5d64878b-fa66-45ee-9c6b-1fa561b4aeb7"
      },
      "outputs": [
        {
          "name": "stdout",
          "output_type": "stream",
          "text": [
            "2/2 [==============================] - 0s 23ms/step\n",
            "Test loss: 0.6931471805599453, Test accuracy: 0.9841269841269841\n"
          ]
        }
      ],
      "source": [
        "# score = model(X_test, y_test, verbose=0)\n",
        "y_predict = grid.best_estimator_.predict(X_test)\n",
        "from sklearn.metrics import accuracy_score\n",
        "print(f'Test loss: {loss_func(y_test, y_predict)}, Test accuracy: {accuracy_score(y_test, y_predict)}')\n"
      ]
    },
    {
      "cell_type": "code",
      "execution_count": 101,
      "metadata": {
        "colab": {
          "base_uri": "https://localhost:8080/",
          "height": 573
        },
        "id": "ZBsJD-z-obZt",
        "outputId": "4b35e861-1c2e-4cb0-e407-14eecce50c65"
      },
      "outputs": [
        {
          "data": {
            "image/png": "[encoded data removed]",
            "text/plain": [
              "<Figure size 432x288 with 1 Axes>"
            ]
          },
          "metadata": {
            "needs_background": "light"
          },
          "output_type": "display_data"
        },
        {
          "data": {
            "image/png": "[encoded data removed]",
            "text/plain": [
              "<Figure size 432x288 with 1 Axes>"
            ]
          },
          "metadata": {
            "needs_background": "light"
          },
          "output_type": "display_data"
        }
      ],
      "source": [
        "# Visualize model history\n",
        "plt.plot(history.history['accuracy'], label='Training accuracy')\n",
        "plt.plot(history.history['val_accuracy'], label='Validation accuracy')\n",
        "plt.title('Training / validation accuracies')\n",
        "plt.ylabel('Accuracy')\n",
        "plt.xlabel('Epoch')\n",
        "plt.legend(loc=\"upper left\")\n",
        "plt.show()\n",
        "\n",
        "plt.plot(history.history['loss'], label='Training loss')\n",
        "plt.plot(history.history['val_loss'], label='Validation loss')\n",
        "plt.title('Training / validation loss values')\n",
        "plt.ylabel('Loss value')\n",
        "plt.xlabel('Epoch')\n",
        "plt.legend(loc=\"upper left\")\n",
        "plt.show()"
      ]
    },
    {
      "cell_type": "markdown",
      "metadata": {
        "id": "-IqxyqFVo_6o"
      },
      "source": [
        "# Q1\n",
        "The accuracy of the model in the training set is similar to the of test set. Both are represnting high accuracy, therefore, the model is not overfitted."
      ]
    },
    {
      "cell_type": "markdown",
      "metadata": {
        "id": "T5Ftfj8FpJvz"
      },
      "source": [
        "#Q2\n",
        "The batch size is a hyperparameter that determines the number of samples to work through before updating the model's parameters.<br />\n",
        "<br />\n",
        "There are two effects of batch size:<br />\n",
        "**Computational performance:** <br />Smaller batch sizes may require less memory, but may require more processing time because Larger batch sizes may require more memory, but may require less processing time because the model's parameters need to be updated less frequently.<br />\n",
        "<br />\n",
        "**Generalization performance:** <br />Smaller batch sizes can introduce randomness into the model's training, which can lead to better generalization performance, because it allows the model to see different samples each time. Larger batch sizes may lead to worse generalization performance because the model is exposed to similar samples more frequently."
      ]
    },
    {
      "cell_type": "markdown",
      "metadata": {
        "id": "lJ4Pa_RTpZCa"
      },
      "source": [
        "# Q3\n",
        "\n",
        "The best optimizer is adam. \n",
        "first of all, grid search shows that adam is the best for optimizer.\n",
        "second, adam optimizer implemneting the adaptive lerning rate and it also using the momntum for the gradient.\n",
        "\n"
      ]
    }
  ],
  "metadata": {
    "colab": {
      "provenance": []
    },
    "kernelspec": {
      "display_name": "Python 3",
      "name": "python3"
    },
    "language_info": {
      "name": "python"
    }
  },
  "nbformat": 4,
  "nbformat_minor": 0
}
