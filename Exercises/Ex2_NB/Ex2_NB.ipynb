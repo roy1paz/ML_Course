{
  "cells": [
    {
      "cell_type": "markdown",
      "metadata": {
        "id": "Uq_3t_tluNmU"
      },
      "source": [
        "# Naive Bayes"
      ]
    },
    {
      "cell_type": "markdown",
      "metadata": {
        "id": "Rum6hqi0I2V1"
      },
      "source": [
        "## Write your id numbers and names here\n",
        "\n",
        "\n",
        "1.   Roy Paz\n",
        "2.   List item\n"
      ]
    },
    {
      "cell_type": "markdown",
      "metadata": {
        "id": "TQVMUZkQHlm2"
      },
      "source": [
        "## 1. Classifying Digits\n",
        "In this part we will test digits classification on the MNIST dataset, using Bernoulli Naive Bayes (a generative model), in contrast to the Multivariate Logistic Regression (a discriminative model) we saw.\n",
        "\n",
        "The MNIST dataset contains 28x28 grayscale images of handwritten digits between 0 and 9 (10 classes). For mathmatical analysis clarity, and for matching expected API, each image faltten to create a 1D array with 784 elements."
      ]
    },
    {
      "cell_type": "markdown",
      "metadata": {
        "id": "Cjwjk6pzLE-y"
      },
      "source": [
        "### Loading the MNIST dataset\n",
        "Load the MNIST data set. The digits dataset is one of datasets scikit-learn comes with that do not require the downloading of any file from some external website. Use \n",
        ">```\n",
        "from keras.datasets import mnist\n",
        "(x_train, y_train), (x_test, y_test) = mnist.load_data()\n",
        "```\n",
        "\n",
        "to fetch the original data. Each image is a 28 by 28 pixels in grayscale range [0.255] and the corresponding label is an integer $y\\in [0,9]$. Each image is should be transformed into a 1D integer array $x\\in [0,255]^{784}$.\n",
        "\n",
        ">```\n",
        "x_train = x_train.reshape(x_train.shape[0], 784)\n",
        "x_test = x_test.reshape(x_test.shape[0], 784)\n",
        "```\n",
        "\n",
        "Plot a single sample of each digit as the original image, so you get a feeling how the data looks like.\n",
        "\n",
        "Finally, divide your data into train and test sets, using 1/7 of the data for testing."
      ]
    },
    {
      "cell_type": "code",
      "execution_count": 1,
      "metadata": {
        "colab": {
          "base_uri": "https://localhost:8080/",
          "height": 219
        },
        "id": "05Om0QLxBvvT",
        "outputId": "3791e46d-de57-4d24-c7f3-f0454cdc9027"
      },
      "outputs": [
        {
          "name": "stdout",
          "output_type": "stream",
          "text": [
            "Downloading data from https://storage.googleapis.com/tensorflow/tf-keras-datasets/mnist.npz\n",
            "11490434/11490434 [==============================] - 0s 0us/step\n"
          ]
        },
        {
          "data": {
            "text/plain": [
              "<Figure size 432x288 with 0 Axes>"
            ]
          },
          "metadata": {},
          "output_type": "display_data"
        },
        {
          "data": {
            "image/png": "[encoded data removed]",
            "text/plain": [
              "<Figure size 720x648 with 10 Axes>"
            ]
          },
          "metadata": {
            "needs_background": "light"
          },
          "output_type": "display_data"
        }
      ],
      "source": [
        "# your code\n",
        "from keras.datasets import mnist\n",
        "import matplotlib.pyplot as plt\n",
        "import numpy as np\n",
        "from matplotlib import pyplot\n",
        "from sklearn.model_selection import train_test_split\n",
        "from sklearn.naive_bayes import BernoulliNB\n",
        "from sklearn.metrics import confusion_matrix\n",
        "from sklearn.metrics import accuracy_score\n",
        "import pandas as pd\n",
        "from collections import Counter\n",
        "\n",
        "\n",
        "(x_train, y_train), (x_test, y_test) = mnist.load_data()\n",
        "\n",
        "plt.gray() # B/W Images\n",
        "plt.figure(figsize = (10,9)) # Adjusting figure size\n",
        "# Displaying a grid of 3x3 images\n",
        "not_to_print = [6,8,9,10,11,12,14,16]\n",
        "j = 0\n",
        "for i in range(18):\n",
        "  if i not in not_to_print:\n",
        "    plt.subplot(8,8,j+1)\n",
        "    plt.imshow(x_train[i])\n",
        "    j += 1\n",
        "\n",
        "# Data Normalization\n",
        "# Conversion to float\n",
        "x_train = x_train.astype('float32') \n",
        "x_test = x_test.astype('float32')\n",
        "\n",
        "# Normalization\n",
        "X_train = x_train/255.0\n",
        "X_test = x_test/255.0\n",
        "\n",
        "X_train = x_train.reshape(X_train.shape[0], 784)\n",
        "X_test = x_test.reshape(X_test.shape[0], 784)"
      ]
    },
    {
      "cell_type": "markdown",
      "metadata": {
        "id": "WTGjjSKaFfE6"
      },
      "source": [
        "### Bernoulli Naive Bayes\n",
        "If we know how the digits are generated, then we know how to classify them (simply choose the digit class which will maximize the posterior probability) --- but which model should we use for describing the digits generation?\n",
        "\n",
        "In this part we will try a very simplified model of digits creation (which is obviously not the same as the \"real\" model), using a Naive Bayes over an underlying Bernoulli distribution --- that is, we will assume that given a digit class, the pixels of the images are the result of independent coin flips, each with its own \"head\" probability.\n",
        "\n",
        "Note that since we assume each pixl is either 0 (black) or 1 (white), we will need to adjust (preprocess) our data accrodingly (see below).\n",
        "\n",
        "So, the model is stated as follows:\n",
        "$$\n",
        "\\begin{align}\n",
        "\\text{Domain} && x \\in \\{0,1\\}^{784} \\\\\n",
        "\\text{Prior} && \\pi_j = \\Pr(y=j) \\\\\n",
        "\\text{Likelihood} && P_j(x) = \\Pr(x | y=j) \\\\\n",
        "\\end{align}\n",
        "$$\n",
        "\n",
        "Where for each $i\\in 0\\ldots 784$ it holds that\n",
        "$$\n",
        "P_{ji}(x_i) = \\Pr(x_i | y=j) =\n",
        "\\begin{cases}\n",
        "p_{ji} & \\text{if } x_i=1 \\\\\n",
        "1-p_{ji} & \\text{if } x_i=0 \\\\\n",
        "\\end{cases}\n",
        "$$\n"
      ]
    },
    {
      "cell_type": "markdown",
      "metadata": {
        "id": "WNjhD3IpL5bC"
      },
      "source": [
        "#### Question 1\n",
        "Write the classification rule based on this Naive Bayes model. \n",
        "How would you esitmate each of the parameters of the model based on the trainning data? \n",
        "Describe in text (preferably math notationns) the classification rule, and explain.\n",
        "\n",
        "**Note:** Think of edge cases which may effect your estimator in an undesired way."
      ]
    },
    {
      "cell_type": "markdown",
      "metadata": {
        "id": "0pN1prGcMqwZ"
      },
      "source": [
        "#### Answer 1\n",
        "The classification rule for a Naive Bayes model is as follows:\n",
        "\n",
        "Calculate the probability that an instance belongs to each class by multiplying the probabilities of each feature belonging to that class.\n",
        "Choose the class with the highest probability as the predicted class for the instance.\n",
        "To estimate the parameters of the model, we would need to count the number of times each feature occurs in each class in the training data, and then divide these counts by the total number of occurrences of that feature in the training data to obtain the probabilities of each feature belonging to each class. \n",
        "\n",
        "$$ \\hat{y} = \\arg \\max_{c \\in C} P(c|x) $$\n",
        "\n",
        "where $C$ is the set of classes, $x$ is the instance to be classified, and $\\hat{y}$ is the predicted class. This can be calculated using the following formula:\n",
        "\n",
        "$$ P(c|x) = \\frac{P(x|c)P(c)}{P(x)} $$\n",
        "\n",
        "where $P(x|c)$ is the probability of the features belonging to class $c$, $P(c)$ is the prior probability of class $c$, and $P(x)$ is the probability of the features.\n",
        "\n",
        "\n"
      ]
    },
    {
      "cell_type": "markdown",
      "metadata": {
        "id": "nOnkgDIXTMCQ"
      },
      "source": [
        "#### Question 2\n",
        "Run a Naive Bayes classifier on the training data and apply predictions on the test data. Use the [sklearn.naive_bayes.BernoulliNB](http://scikit-learn.org/stable/modules/generated/sklearn.naive_bayes.BernoulliNB.html) implementation (see the [source code for sklearn.naive_bayes](https://github.com/scikit-learn/scikit-learn/blob/master/sklearn/naive_bayes.py) for details).\n",
        "\n",
        "Remember we need to preprocess the data in this case such that each pixel would become either black (0) or white (1). For this, use the `binarize` parameter of the implementation. Set this value to $0$ (this is the default), which in this case would mean every pixel with non-zero value will be set to 1.\n",
        "\n",
        "1. Plot the mean image of each class (estimated $\\hat{p}_{ji}$) and generate one sample of each class (remember, you can do this since this is a generative model). You will need to access the `feature_log_prob_` attribute of the trained model.\n",
        "\n",
        "2. Plot the confusion matrix of your classifier, as claculated on the test data (it is recommended to use [sklearn.metrics.confusion_matrix](http://scikit-learn.org/stable/modules/generated/sklearn.metrics.confusion_matrix.html)). Calculate the total accuracy (fraction of correctly classified images), and summarize the results in your own words.\n",
        "\n",
        "3. Think of a way you can find the optimal threshold of the binarization part. **There is no need to actually perform this task --- just describe what you would have done.**\n"
      ]
    },
    {
      "cell_type": "markdown",
      "metadata": {
        "id": "ZKdsdegDWaO_"
      },
      "source": [
        "#### Answer 2\n",
        "\n"
      ]
    },
    {
      "cell_type": "code",
      "execution_count": 2,
      "metadata": {
        "colab": {
          "base_uri": "https://localhost:8080/",
          "height": 183
        },
        "id": "XalqjRWXWS-Y",
        "outputId": "e82e2a51-52dc-4f9c-899f-3edc40a9c876"
      },
      "outputs": [
        {
          "data": {
            "text/plain": [
              "<Figure size 432x288 with 0 Axes>"
            ]
          },
          "metadata": {},
          "output_type": "display_data"
        },
        {
          "data": {
            "image/png": "[encoded data removed]",
            "text/plain": [
              "<Figure size 720x648 with 10 Axes>"
            ]
          },
          "metadata": {
            "needs_background": "light"
          },
          "output_type": "display_data"
        }
      ],
      "source": [
        "# code goes here\n",
        "# alpha 1e-10 found with CV method, but not possible to use CV if we will like to use feature_log_prob_ attribute\n",
        "naive_algorithm = BernoulliNB(alpha=1e-10).fit(X_train, y_train)\n",
        "y_predict = naive_algorithm.predict(X_test)\n",
        "# 1\n",
        "p_w_c = np.exp(naive_algorithm.feature_log_prob_)\n",
        "p_c_w = p_w_c.reshape(-1,1)\n",
        "p_c_w = p_c_w.reshape(10,28,28)\n",
        "p_c_w = p_c_w * 255\n",
        "\n",
        "plt.gray() # B/W Images\n",
        "plt.figure(figsize = (10,9)) # Adjusting figure size\n",
        "# Displaying a grid of 3x3 images\n",
        "for i in range(10):\n",
        " plt.subplot(8,8,i+1)\n",
        " plt.imshow(p_c_w[i])\n"
      ]
    },
    {
      "cell_type": "code",
      "execution_count": 3,
      "metadata": {
        "colab": {
          "base_uri": "https://localhost:8080/",
          "height": 381
        },
        "id": "HZStSBhOEOUh",
        "outputId": "354afe42-6ec2-47e0-a7c0-668453415537"
      },
      "outputs": [
        {
          "name": "stdout",
          "output_type": "stream",
          "text": [
            "Accuracy:  0.8419\n"
          ]
        },
        {
          "data": {
            "text/html": [
              "\n",
              "  <div id=\"df-0f80973b-ed7b-4588-8600-a89db68cadfb\">\n",
              "    <div class=\"colab-df-container\">\n",
              "      <div>\n",
              "<style scoped>\n",
              "    .dataframe tbody tr th:only-of-type {\n",
              "        vertical-align: middle;\n",
              "    }\n",
              "\n",
              "    .dataframe tbody tr th {\n",
              "        vertical-align: top;\n",
              "    }\n",
              "\n",
              "    .dataframe thead th {\n",
              "        text-align: right;\n",
              "    }\n",
              "</style>\n",
              "<table border=\"1\" class=\"dataframe\">\n",
              "  <thead>\n",
              "    <tr style=\"text-align: right;\">\n",
              "      <th></th>\n",
              "      <th>0</th>\n",
              "      <th>1</th>\n",
              "      <th>2</th>\n",
              "      <th>3</th>\n",
              "      <th>4</th>\n",
              "      <th>5</th>\n",
              "      <th>6</th>\n",
              "      <th>7</th>\n",
              "      <th>8</th>\n",
              "      <th>9</th>\n",
              "    </tr>\n",
              "  </thead>\n",
              "  <tbody>\n",
              "    <tr>\n",
              "      <th>0</th>\n",
              "      <td>887</td>\n",
              "      <td>0</td>\n",
              "      <td>4</td>\n",
              "      <td>7</td>\n",
              "      <td>2</td>\n",
              "      <td>41</td>\n",
              "      <td>16</td>\n",
              "      <td>1</td>\n",
              "      <td>22</td>\n",
              "      <td>0</td>\n",
              "    </tr>\n",
              "    <tr>\n",
              "      <th>1</th>\n",
              "      <td>0</td>\n",
              "      <td>1085</td>\n",
              "      <td>10</td>\n",
              "      <td>5</td>\n",
              "      <td>0</td>\n",
              "      <td>9</td>\n",
              "      <td>6</td>\n",
              "      <td>0</td>\n",
              "      <td>19</td>\n",
              "      <td>1</td>\n",
              "    </tr>\n",
              "    <tr>\n",
              "      <th>2</th>\n",
              "      <td>19</td>\n",
              "      <td>8</td>\n",
              "      <td>856</td>\n",
              "      <td>28</td>\n",
              "      <td>17</td>\n",
              "      <td>4</td>\n",
              "      <td>30</td>\n",
              "      <td>14</td>\n",
              "      <td>54</td>\n",
              "      <td>2</td>\n",
              "    </tr>\n",
              "    <tr>\n",
              "      <th>3</th>\n",
              "      <td>5</td>\n",
              "      <td>15</td>\n",
              "      <td>34</td>\n",
              "      <td>845</td>\n",
              "      <td>0</td>\n",
              "      <td>13</td>\n",
              "      <td>9</td>\n",
              "      <td>18</td>\n",
              "      <td>45</td>\n",
              "      <td>26</td>\n",
              "    </tr>\n",
              "    <tr>\n",
              "      <th>4</th>\n",
              "      <td>2</td>\n",
              "      <td>6</td>\n",
              "      <td>4</td>\n",
              "      <td>0</td>\n",
              "      <td>795</td>\n",
              "      <td>5</td>\n",
              "      <td>20</td>\n",
              "      <td>1</td>\n",
              "      <td>23</td>\n",
              "      <td>126</td>\n",
              "    </tr>\n",
              "    <tr>\n",
              "      <th>5</th>\n",
              "      <td>23</td>\n",
              "      <td>12</td>\n",
              "      <td>7</td>\n",
              "      <td>130</td>\n",
              "      <td>30</td>\n",
              "      <td>627</td>\n",
              "      <td>16</td>\n",
              "      <td>7</td>\n",
              "      <td>21</td>\n",
              "      <td>19</td>\n",
              "    </tr>\n",
              "    <tr>\n",
              "      <th>6</th>\n",
              "      <td>18</td>\n",
              "      <td>18</td>\n",
              "      <td>16</td>\n",
              "      <td>2</td>\n",
              "      <td>12</td>\n",
              "      <td>35</td>\n",
              "      <td>851</td>\n",
              "      <td>0</td>\n",
              "      <td>6</td>\n",
              "      <td>0</td>\n",
              "    </tr>\n",
              "    <tr>\n",
              "      <th>7</th>\n",
              "      <td>1</td>\n",
              "      <td>24</td>\n",
              "      <td>13</td>\n",
              "      <td>4</td>\n",
              "      <td>14</td>\n",
              "      <td>0</td>\n",
              "      <td>0</td>\n",
              "      <td>870</td>\n",
              "      <td>28</td>\n",
              "      <td>74</td>\n",
              "    </tr>\n",
              "    <tr>\n",
              "      <th>8</th>\n",
              "      <td>16</td>\n",
              "      <td>23</td>\n",
              "      <td>13</td>\n",
              "      <td>76</td>\n",
              "      <td>17</td>\n",
              "      <td>23</td>\n",
              "      <td>6</td>\n",
              "      <td>6</td>\n",
              "      <td>757</td>\n",
              "      <td>37</td>\n",
              "    </tr>\n",
              "    <tr>\n",
              "      <th>9</th>\n",
              "      <td>9</td>\n",
              "      <td>13</td>\n",
              "      <td>5</td>\n",
              "      <td>9</td>\n",
              "      <td>72</td>\n",
              "      <td>9</td>\n",
              "      <td>0</td>\n",
              "      <td>24</td>\n",
              "      <td>22</td>\n",
              "      <td>846</td>\n",
              "    </tr>\n",
              "  </tbody>\n",
              "</table>\n",
              "</div>\n",
              "      <button class=\"colab-df-convert\" onclick=\"convertToInteractive('df-0f80973b-ed7b-4588-8600-a89db68cadfb')\"\n",
              "              title=\"Convert this dataframe to an interactive table.\"\n",
              "              style=\"display:none;\">\n",
              "        \n",
              "  <svg xmlns=\"http://www.w3.org/2000/svg\" height=\"24px\"viewBox=\"0 0 24 24\"\n",
              "       width=\"24px\">\n",
              "    <path d=\"M0 0h24v24H0V0z\" fill=\"none\"/>\n",
              "    <path d=\"M18.56 5.44l.94 2.06.94-2.06 2.06-.94-2.06-.94-.94-2.06-.94 2.06-2.06.94zm-11 1L8.5 8.5l.94-2.06 2.06-.94-2.06-.94L8.5 2.5l-.94 2.06-2.06.94zm10 10l.94 2.06.94-2.06 2.06-.94-2.06-.94-.94-2.06-.94 2.06-2.06.94z\"/><path d=\"M17.41 7.96l-1.37-1.37c-.4-.4-.92-.59-1.43-.59-.52 0-1.04.2-1.43.59L10.3 9.45l-7.72 7.72c-.78.78-.78 2.05 0 2.83L4 21.41c.39.39.9.59 1.41.59.51 0 1.02-.2 1.41-.59l7.78-7.78 2.81-2.81c.8-.78.8-2.07 0-2.86zM5.41 20L4 18.59l7.72-7.72 1.47 1.35L5.41 20z\"/>\n",
              "  </svg>\n",
              "      </button>\n",
              "      \n",
              "  <style>\n",
              "    .colab-df-container {\n",
              "      display:flex;\n",
              "      flex-wrap:wrap;\n",
              "      gap: 12px;\n",
              "    }\n",
              "\n",
              "    .colab-df-convert {\n",
              "      background-color: #E8F0FE;\n",
              "      border: none;\n",
              "      border-radius: 50%;\n",
              "      cursor: pointer;\n",
              "      display: none;\n",
              "      fill: #1967D2;\n",
              "      height: 32px;\n",
              "      padding: 0 0 0 0;\n",
              "      width: 32px;\n",
              "    }\n",
              "\n",
              "    .colab-df-convert:hover {\n",
              "      background-color: #E2EBFA;\n",
              "      box-shadow: 0px 1px 2px rgba(60, 64, 67, 0.3), 0px 1px 3px 1px rgba(60, 64, 67, 0.15);\n",
              "      fill: #174EA6;\n",
              "    }\n",
              "\n",
              "    [theme=dark] .colab-df-convert {\n",
              "      background-color: #3B4455;\n",
              "      fill: #D2E3FC;\n",
              "    }\n",
              "\n",
              "    [theme=dark] .colab-df-convert:hover {\n",
              "      background-color: #434B5C;\n",
              "      box-shadow: 0px 1px 3px 1px rgba(0, 0, 0, 0.15);\n",
              "      filter: drop-shadow(0px 1px 2px rgba(0, 0, 0, 0.3));\n",
              "      fill: #FFFFFF;\n",
              "    }\n",
              "  </style>\n",
              "\n",
              "      <script>\n",
              "        const buttonEl =\n",
              "          document.querySelector('#df-0f80973b-ed7b-4588-8600-a89db68cadfb button.colab-df-convert');\n",
              "        buttonEl.style.display =\n",
              "          google.colab.kernel.accessAllowed ? 'block' : 'none';\n",
              "\n",
              "        async function convertToInteractive(key) {\n",
              "          const element = document.querySelector('#df-0f80973b-ed7b-4588-8600-a89db68cadfb');\n",
              "          const dataTable =\n",
              "            await google.colab.kernel.invokeFunction('convertToInteractive',\n",
              "                                                     [key], {});\n",
              "          if (!dataTable) return;\n",
              "\n",
              "          const docLinkHtml = 'Like what you see? Visit the ' +\n",
              "            '<a target=\"_blank\" href=https://colab.research.google.com/notebooks/data_table.ipynb>data table notebook</a>'\n",
              "            + ' to learn more about interactive tables.';\n",
              "          element.innerHTML = '';\n",
              "          dataTable['output_type'] = 'display_data';\n",
              "          await google.colab.output.renderOutput(dataTable, element);\n",
              "          const docLink = document.createElement('div');\n",
              "          docLink.innerHTML = docLinkHtml;\n",
              "          element.appendChild(docLink);\n",
              "        }\n",
              "      </script>\n",
              "    </div>\n",
              "  </div>\n",
              "  "
            ],
            "text/plain": [
              "     0     1    2    3    4    5    6    7    8    9\n",
              "0  887     0    4    7    2   41   16    1   22    0\n",
              "1    0  1085   10    5    0    9    6    0   19    1\n",
              "2   19     8  856   28   17    4   30   14   54    2\n",
              "3    5    15   34  845    0   13    9   18   45   26\n",
              "4    2     6    4    0  795    5   20    1   23  126\n",
              "5   23    12    7  130   30  627   16    7   21   19\n",
              "6   18    18   16    2   12   35  851    0    6    0\n",
              "7    1    24   13    4   14    0    0  870   28   74\n",
              "8   16    23   13   76   17   23    6    6  757   37\n",
              "9    9    13    5    9   72    9    0   24   22  846"
            ]
          },
          "execution_count": 3,
          "metadata": {},
          "output_type": "execute_result"
        }
      ],
      "source": [
        "# 2\n",
        "print(\"Accuracy: \", accuracy_score(y_test, y_predict, normalize = True))\n",
        "pd.DataFrame(confusion_matrix(y_true=y_test, y_pred=y_predict))"
      ]
    },
    {
      "cell_type": "markdown",
      "metadata": {
        "id": "QJ0foaCzffMY"
      },
      "source": [
        "**Answer Q2:**\n",
        "As we can see the predict value and the real value with high accuracy score.\n",
        "But, there is some outliers with wrong label, like the 5 real label and 3 predict.\n",
        "\n",
        "**Answer Q3:**\n",
        "To find the optimal threshold of the **binarization** i will perform a **CV** (cross validation) method with different values.\n",
        "The result will be the Naive Bayes Algorithm with the best binarization value."
      ]
    },
    {
      "cell_type": "markdown",
      "metadata": {
        "id": "lKSgnectrTJ1"
      },
      "source": [
        "## 2. Classifing Text Documents using Multinomial Naive Bayes\n",
        "In this exercise you will classify the \"20 newsgroups\" data set using your own naive bayes classifier and compare to the scikit learn built in version.\n",
        "\n",
        "The 20 newsgroups dataset comprises around 18000 newsgroups posts on 20 topics split in two subsets: one for training (or development) and the other one for testing (or for performance evaluation). The split between the train and test set is based upon messages posted before and after a specific date.\n",
        "\n",
        "### You task\n",
        "Implement the barebone class provided: `NaiveBayes(BaseEstimator, ClassifierMixin)` and implement its `fit`, `predict` and `predict_log_proba` methods.\n",
        "\n",
        "Then follow next anlysis guidlinnes using the implemented class for train and test classifier:\n",
        "* Load the **train** data using `from sklearn.datasets import fetch_20newsgroups`. remove headers, footers and quotes (see documentation)\n",
        "* Use `sklearn.feature_extraction.text import CountVectorizer` to count words (`stop_words='english'`)\n",
        "* use `sklearn.pipeline.make_pipeline` to chain the vectroizer and model.\n",
        "* note: limit the vocuabolary size if you encounter memory issues\n",
        "* compare the accuracy over the **test** data. You can use `accuracy_score, classification_report`\n",
        "* compare to the built in `sklearn.naive_bayes.MultinomialNB`\n",
        "* compare to `TfidfVectorizer` preprocessing (you can use the built in model for doing the analysis)\n",
        "* plot the learning curve by sample size (you can use [learning_curve](https://scikit-learn.org/stable/modules/generated/sklearn.model_selection.learning_curve.html) function from `sklearn.model_selection`)- is the model in the bias or variance regime (you can use the built in model for doing the analysis)\n",
        "* optimize performance in respect to vectorizer hyper parameters (e.g. max_features, max_df etc.) (you can use the built in model for doing the analysis)."
      ]
    },
    {
      "cell_type": "code",
      "execution_count": 9,
      "metadata": {
        "colab": {
          "base_uri": "https://localhost:8080/"
        },
        "id": "FEbVc4Ixxe6L",
        "outputId": "c3bb327c-adac-4dbc-9510-a0c61037642a"
      },
      "outputs": [
        {
          "name": "stdout",
          "output_type": "stream",
          "text": [
            "              precision    recall  f1-score   support\n",
            "\n",
            "           0       0.37      0.42      0.39       319\n",
            "           1       0.44      0.59      0.50       389\n",
            "           2       0.01      0.01      0.01       394\n",
            "           3       0.47      0.57      0.51       392\n",
            "           4       0.46      0.59      0.52       385\n",
            "           5       0.70      0.57      0.63       395\n",
            "           6       0.77      0.66      0.71       390\n",
            "           7       0.26      0.65      0.37       396\n",
            "           8       0.59      0.67      0.63       398\n",
            "           9       0.63      0.66      0.64       397\n",
            "          10       0.44      0.54      0.49       399\n",
            "          11       0.81      0.53      0.64       396\n",
            "          12       0.56      0.50      0.53       393\n",
            "          13       0.69      0.53      0.60       396\n",
            "          14       0.76      0.54      0.63       394\n",
            "          15       0.52      0.52      0.52       398\n",
            "          16       0.53      0.47      0.50       364\n",
            "          17       0.68      0.40      0.50       376\n",
            "          18       0.35      0.21      0.26       310\n",
            "          19       0.26      0.20      0.22       251\n",
            "\n",
            "    accuracy                           0.50      7532\n",
            "   macro avg       0.52      0.49      0.49      7532\n",
            "weighted avg       0.52      0.50      0.50      7532\n",
            "\n"
          ]
        }
      ],
      "source": [
        "from sklearn.datasets import fetch_20newsgroups\n",
        "from sklearn.feature_extraction.text import CountVectorizer\n",
        "from sklearn.pipeline import make_pipeline\n",
        "from sklearn.naive_bayes import MultinomialNB\n",
        "from sklearn.metrics import accuracy_score, classification_report\n",
        "from sklearn.feature_extraction.text import CountVectorizer, TfidfVectorizer\n",
        "import sklearn.model_selection\n",
        "from sklearn.base import BaseEstimator, ClassifierMixin\n",
        "from sklearn.model_selection import learning_curve\n",
        "\n",
        "\n",
        "class NaiveBayes(BaseEstimator, ClassifierMixin):\n",
        "  '''\n",
        "  BaseEstimator and ClassifierMixin are imported from sklearn.base\n",
        "  '''\n",
        "  def __init__(self):\n",
        "    self.word_label_prob = None\n",
        "    self.label_prob = None\n",
        "\n",
        "  def fit(self, x, y):\n",
        "    #                (sum of the values for the class y and the feature i) + (Laplace parameter (1))\n",
        "    # ------------------------------------------------------------------------------------------------------------\n",
        "    # (overall sum of all the values in the database for the class y) + (Laplace parameter) * (number of features)\n",
        "    \n",
        "    x = x.toarray()\n",
        "    self.word_label_prob = {i:np.array([]) for i in set(y)}\n",
        "    # calculate prob for each label\n",
        "    self.label_prob = Counter(y)\n",
        "    for l in self.label_prob:\n",
        "      self.label_prob[l] /= len(y)\n",
        "\n",
        "    # create dictinary of all rows for each label\n",
        "    for i in range(x.shape[0]):\n",
        "      if self.word_label_prob[y[i]].shape[0] == 0:\n",
        "        self.word_label_prob[y[i]] = np.array(x[i])\n",
        "      else:\n",
        "        self.word_label_prob[y[i]] = np.vstack((self.word_label_prob[y[i]], np.array(x[i])))\n",
        "    # calculates\n",
        "    for l in self.word_label_prob:\n",
        "      # sum all columns, means sum each word in the same label\n",
        "      self.word_label_prob[l] = self.word_label_prob[l].sum(axis=0)\n",
        "      # add 1 to prevent zero probability\n",
        "      self.word_label_prob[l] += 1\n",
        "      # calculate probabilty for each word in each label\n",
        "      label_size = np.sum(self.word_label_prob[l])\n",
        "      self.word_label_prob[l] = [(self.word_label_prob[l][i] / label_size) for i in range(self.word_label_prob[l].shape[0])]\n",
        "\n",
        "  def predict_log_proba(self, x):\n",
        "    x = x.toarray()\n",
        "    labels = list(self.label_prob.keys())\n",
        "    text_label_prob = {f'news {i}':{l:1 for l in labels} for i in range(len(x))}\n",
        "    for i in range(len(x)): # iterate over texts\n",
        "      for l in labels:\n",
        "        text_label_prob[f'news {i}'][l] = self.word_label_prob[l] * x[i]\n",
        "        text_label_prob[f'news {i}'][l] = np.prod(text_label_prob[f'news {i}'][l], where = text_label_prob[f'news {i}'][l] > 0)\n",
        "        text_label_prob[f'news {i}'][l] *= self.label_prob[l]\n",
        "        if text_label_prob[f'news {i}'][l] != 0:\n",
        "          text_label_prob[f'news {i}'][l] = np.log(text_label_prob[f'news {i}'][l])\n",
        "    return text_label_prob\n",
        "\n",
        "  def predict(self, x):\n",
        "    log_prob = self.predict_log_proba(x)\n",
        "    predict_labels = [max(log_prob[key], key=log_prob[key].get) for key in log_prob]\n",
        "    return predict_labels\n",
        "\n",
        "train = fetch_20newsgroups(remove= ('headers', 'footers', 'quotes'), subset= 'train')\n",
        "x_train = train.data\n",
        "y_train = train.target\n",
        "test = fetch_20newsgroups(remove= ('headers', 'footers', 'quotes'), subset= 'test')\n",
        "x_test = test.data\n",
        "y_test = test.target  \n",
        "model = NaiveBayes()\n",
        "vectorizer = CountVectorizer(stop_words='english', max_features=4000)\n",
        "pipeline = make_pipeline(vectorizer, model)\n",
        "fit_data = pipeline.fit(x_train, y_train)\n",
        "y_predicted = fit_data.predict(x_test)\n",
        "print(classification_report(y_test, y_predicted))\n"
      ]
    },
    {
      "cell_type": "code",
      "execution_count": 20,
      "metadata": {
        "id": "nrM5joaCpunb"
      },
      "outputs": [],
      "source": [
        "vectorizer = CountVectorizer(stop_words='english')\n",
        "pipeline = make_pipeline(vectorizer, MultinomialNB())\n",
        "train_sizes, train_scores, test_scores = learning_curve(pipeline, x_train, y_train,\n",
        "                                                        scoring='neg_mean_squared_error', train_sizes=np.linspace(0.1, 1.0, 10, 20))\n",
        "train_mean = np.mean(train_scores, axis=1)\n",
        "train_std = np.std(train_scores, axis=1)\n",
        "test_mean = np.mean(test_scores, axis=1)\n",
        "test_std = np.std(test_scores, axis=1)"
      ]
    },
    {
      "cell_type": "code",
      "execution_count": 22,
      "metadata": {
        "colab": {
          "base_uri": "https://localhost:8080/",
          "height": 376
        },
        "id": "kRT4OT2-rriw",
        "outputId": "2cce4928-f047-4809-8772-2c99b38eee8d"
      },
      "outputs": [
        {
          "data": {
            "image/png": "[encoded data removed]",
            "text/plain": [
              "<Figure size 576x396 with 1 Axes>"
            ]
          },
          "metadata": {},
          "output_type": "display_data"
        }
      ],
      "source": [
        "# plot\n",
        "plt.style.use('seaborn')\n",
        "# plt.subplots(1, figsize=(6,6))\n",
        "plt.plot(train_sizes, -train_mean,label=\"Training\")\n",
        "plt.plot(train_sizes, -test_mean, label=\"Cross Validation\")\n",
        "plt.fill_between(train_sizes, -(train_mean - train_std), -(train_mean + train_std), alpha=0.4)\n",
        "plt.fill_between(train_sizes, -(test_mean - test_std), -(test_mean + test_std), alpha=0.4)\n",
        "plt.title(\"Learning Curve\")\n",
        "plt.xlabel(\"Training Set Size\"), plt.ylabel(\"MSE\"), plt.legend(loc=\"best\")\n",
        "plt.show()"
      ]
    },
    {
      "cell_type": "markdown",
      "metadata": {
        "id": "d1S_v22_vDCs"
      },
      "source": [
        "#### Model interpretability\n",
        "Find the most important features for a **specific** decision of a NB classifier.\n",
        "Because the model has learned the prior $p(x_i|c)$ during the training, the contribution of an individual feature value can be easily measured by the posterior, $p(c|x_i)=p(c)p(x_i|c)/p(x_i)$\n",
        "Implement a function which gets a scikit-learn NB model as input and returns $P(c|x_i)$:\n",
        "\n",
        "`def calc_p_c_given_xi(model)`\n",
        "\n",
        "Hint: Use the following model properties:\n",
        "\n",
        "* `model.class_log_prior_`\n",
        "* `model.feature_log_prob_`\n",
        "\n",
        "Note: remember these are logs and you need to use np.exp and normalize to get $P(c|x_i)$ \n",
        "Another hint: use numpy built-in broadcasting property.\n",
        "\n",
        "* Use the interpretation to examine errors of the classifier where $\\hat{c}\\ne c$. Which top words support the correct class and which support the wrong class? You can use the `print_txt` below to color words."
      ]
    },
    {
      "cell_type": "code",
      "execution_count": 5,
      "metadata": {
        "colab": {
          "base_uri": "https://localhost:8080/"
        },
        "id": "WrTOhkHV9msW",
        "outputId": "490a5ce8-6a08-4810-8a19-f39018ef2311"
      },
      "outputs": [
        {
          "name": "stdout",
          "output_type": "stream",
          "text": [
            "This \u001b[42;37mword\u001b[0m support the first class but this the \u001b[41;37mother\u001b[0m\n"
          ]
        }
      ],
      "source": [
        "import string\n",
        "def print_txt(txt, hot, cold):\n",
        "  \"\"\"\n",
        "  print the text, coloring hot and cold words with colors\n",
        "  \"\"\"\n",
        "  cold_color='\\x1b[41;37m{}\\x1b[0m'\n",
        "  hot_color='\\x1b[42;37m{}\\x1b[0m'\n",
        "  mid_color='\\x1b[45;37m{}\\x1b[0m'\n",
        "  def color(token):\n",
        "    lower = str(token).lower()\n",
        "    lower = lower.replace('\\t','').replace('\\n','')\n",
        "    lower = lower.translate(string.punctuation)\n",
        "    if (lower in hot) and (lower in cold):\n",
        "      return mid_color.format(token)\n",
        "    elif lower in hot:\n",
        "      return hot_color.format(token)\n",
        "    elif lower in cold:\n",
        "      return cold_color.format(token)\n",
        "    else:\n",
        "      return token\n",
        "  colored_txt = \" \".join([color(token) for token in txt.split(' ')])\n",
        "  print(colored_txt)\n",
        "print_txt('This word support the first class but this the other', ['word'],['other'])"
      ]
    },
    {
      "cell_type": "code",
      "execution_count": 49,
      "metadata": {
        "colab": {
          "base_uri": "https://localhost:8080/"
        },
        "id": "vJKRmDaO5KSo",
        "outputId": "89cafedd-2a7a-4acf-ce04-a85a07a7a724"
      },
      "outputs": [
        {
          "name": "stdout",
          "output_type": "stream",
          "text": [
            "train - 11314 documents\n",
            "test - 7532 documents\n",
            "\n",
            "document=7, c=15 (soc.religion.christian), guess correctly = False\n",
            "--------------------------------------------------------------------------------\n",
            "      word     idx     score\n",
            "0   hebrew   62426  0.308904\n",
            "1     paul   92220  0.267955\n",
            "2   africa   26589  0.210263\n",
            "3     word  124691  0.208367\n",
            "4  perfect   92787  0.141767\n",
            "5    greek   60165  0.126291\n",
            "6  lexicon   75340  0.117796\n",
            "--------------------------------------------------------------------------------\n",
            "score for incorrect guess c_hat=5 (comp.windows.x)\n",
            "--------------------------------------------------------------------------------\n",
            "         word     idx     score\n",
            "0        file   55216  0.315000\n",
            "1     restore  101196  0.239511\n",
            "2       email   51190  0.142708\n",
            "3          ac   25515  0.140652\n",
            "4     package   91444  0.120794\n",
            "5      thanks  114195  0.116164\n",
            "6  appreciate   28901  0.113957\n",
            "7         und  118273  0.112628\n",
            "8  processing   95900  0.111857\n",
            "9     address   26082  0.109681\n",
            "--------------------------------------------------------------------------------\n",
            "text:\n",
            "--------------------------------------------------------------------------------\n",
            "From: fortmann@superbowl.und.ac.za (Paul Fortmann - PG)\n",
            "Subject: \"The \u001b[42;37mWord\u001b[0m Perfect\" EXE \u001b[41;37mfile\u001b[0m needed\n",
            "Organization: University Of Natal (Durban)\n",
            "Lines: 14\n",
            "\n",
            "A friend of mine managed to get a copy of a computerised \u001b[42;37mGreek\u001b[0m and \u001b[42;37mHebrew\u001b[0m \u001b[42;37m\n",
            "Lexicon\u001b[0m called \"The \u001b[42;37mWord\u001b[0m Perfect\" (That is not the \u001b[42;37mword\u001b[0m \u001b[41;37mprocessing\u001b[0m \u001b[41;37m\n",
            "package\u001b[0m WordPerfect). However, some one wiped out the EXE file, and she \n",
            "has not been able to \u001b[41;37mrestore\u001b[0m it. There are no distributors of the \u001b[41;37mpackage\u001b[0m in \n",
            "South Africa. I would \u001b[41;37mappreciate\u001b[0m it, if some one could \u001b[41;37memail\u001b[0m me the file, or \n",
            "at least tell me where I could get it from. \n",
            "\n",
            "My \u001b[41;37memail\u001b[0m \u001b[41;37maddress\u001b[0m is\n",
            "\tfortmann@superbowl.und.ac.za     or\n",
            "\tfortmann@shrike.und.ac.za\n",
            " \n",
            "Many thanks.\n",
            "\n",
            "In Him, \u001b[42;37mPaul\u001b[0m Fortmann\n",
            "\n"
          ]
        }
      ],
      "source": [
        "from sklearn.datasets import fetch_20newsgroups, fetch_20newsgroups_vectorized\n",
        "from sklearn.feature_extraction.text import CountVectorizer, TfidfVectorizer\n",
        "from sklearn.naive_bayes import MultinomialNB\n",
        "from sklearn.pipeline import make_pipeline\n",
        "from sklearn.metrics import accuracy_score, confusion_matrix\n",
        "import pandas as pd\n",
        "import sys\n",
        "import numpy as np\n",
        "from scipy.stats import binom\n",
        "import string\n",
        "\n",
        "\n",
        "random_state = 42\n",
        "shuffle = True\n",
        "remove = []\n",
        "data_dict = {}\n",
        "for subset in [\"train\", \"test\"]:\n",
        "  data = fetch_20newsgroups(subset=subset,\n",
        "                            shuffle=shuffle, \n",
        "                            random_state=random_state,\n",
        "                            remove=remove)\n",
        "  data_dict[subset] = data\n",
        "  n = len(data.data)\n",
        "  print(\"{} - {} documents\".format(subset, n))\n",
        "X_train, y_train = data_dict['train'].data, data_dict['train'].target\n",
        "X_test, y_test = data_dict['test'].data, data_dict['test'].target\n",
        "target_names = data_dict['train'].target_names\n",
        "\n",
        "\n",
        "max_features=2**16\n",
        "vectorizer = CountVectorizer(stop_words='english')\n",
        "model = MultinomialNB()\n",
        "pipeline = make_pipeline(vectorizer, model)\n",
        "pipeline.fit(X_train, y_train)\n",
        "\n",
        "pred = pipeline.predict(X_test)\n",
        "\n",
        "def p_c_given_xi(model):\n",
        "  # you code goes here\n",
        "  p_c = np.exp(model.class_log_prior_)\n",
        "  p_w_c = np.exp(model.feature_log_prob_)\n",
        "  p_c_w = p_c.reshape(-1,1)* p_w_c\n",
        "  p_c_w = p_c_w/p_c_w.sum(axis=0)\n",
        "  return p_c_w\n",
        "p_c_w = p_c_given_xi(model)\n",
        "\n",
        "\n",
        "x = vectorizer.transform(X_test)\n",
        "idx2word={v:k for k, v in vectorizer.vocabulary_.items()}\n",
        "cold_color='\\x1b[41;37m{}\\x1b[0m'\n",
        "hot_color='\\x1b[42;37m{}\\x1b[0m'\n",
        "mid_color='\\x1b[45;37m{}\\x1b[0m' \n",
        "def word_by_score(c, word_index, min_p=0.1, max_n=10):\n",
        "  \"\"\"\n",
        "  return a pandas series with index being the word and its index and the value being p(c|xi)\n",
        "  \"\"\"\n",
        "  word_score = p_c_w[c, word_index]\n",
        "  words =[idx2word[w] for w in word_index]\n",
        "  s = pd.Series(word_score.flatten(), index=[words, word_index])\n",
        "  s.index.names=['word','idx']\n",
        "  s.name = 'score'\n",
        "  stop = s.sort_values(ascending=False)\n",
        "  stop = stop[stop>min_p]\n",
        "  if len(stop)>max_n:\n",
        "    stop = stop[:max_n]\n",
        "  return stop.reset_index()\n",
        "\n",
        "\n",
        "def display_doc(i):\n",
        "  \"\"\"\n",
        "  displaying document i\n",
        "  \"\"\"\n",
        "  c_hat = pred[i]\n",
        "  c = y_test[i]\n",
        "  txt = X_test[i]\n",
        "  xi = x[i,:]\n",
        "  nz = xi.nonzero()[1] # non zero words\n",
        "\n",
        "  print('')\n",
        "  print('document={}, c={} ({}), guess correctly = {}'.format(i, c, target_names[c], c_hat==c))\n",
        "  print('-'*80)\n",
        "  hot = word_by_score(c,nz)\n",
        "  print(hot)\n",
        "  hot_words = hot.word.tolist()\n",
        "  if c_hat!=c:\n",
        "    print('-'*80)\n",
        "    print('score for incorrect guess c_hat={} ({})'.format(c_hat, target_names[c_hat]))\n",
        "    print('-'*80)\n",
        "    cold = word_by_score(c_hat,nz)\n",
        "    cold_words = cold.word.tolist()\n",
        "    print(cold)\n",
        "  else:\n",
        "    cold_words = []\n",
        "  print('-'*80)\n",
        "  print('text:')\n",
        "  print('-'*80)\n",
        "  print_txt(txt, hot_words, cold_words)\n",
        "\n",
        "\n",
        "i = 7\n",
        "display_doc(i)\n"
      ]
    },
    {
      "cell_type": "markdown",
      "metadata": {
        "id": "kww6g1jGv_Fw"
      },
      "source": [
        "#### Think and describe:\n",
        "#### How can you correct the analyzed error?\n",
        "\n",
        "To read more about model interpretation, see the blogpost below and the tutorial:\n",
        "* https://lilianweng.github.io/lil-log/2017/08/01/how-to-explain-the-prediction-of-a-machine-learning-model.html\n",
        "* https://github.com/chanansh/right_but_why"
      ]
    },
    {
      "cell_type": "markdown",
      "metadata": {
        "id": "K4QrAGdiwD6f"
      },
      "source": [
        "To correct the error in a Multinomial Naive Bayes classifier:\n",
        "\n",
        "1. Check your training data to make sure it is clean and representative of the problem you are trying to solve. If your training data is noisy or not representative, the classifier may not be able to learn accurately.\n",
        "\n",
        "2. Tune the hyperparameters of your model, such as the smoothing parameter, to improve its performance on the training data.\n",
        "\n",
        "3. Consider using a different type of Naive Bayes classifier, such as Gaussian Naive Bayes, which may be better suited to your data.\n",
        "\n",
        "4. Use cross-validation to evaluate the performance of your model and compare it to other potential models. This can help you identify the best model for your data."
      ]
    }
  ],
  "metadata": {
    "colab": {
      "provenance": []
    },
    "kernelspec": {
      "display_name": "Python 3",
      "language": "python",
      "name": "python3"
    },
    "language_info": {
      "codemirror_mode": {
        "name": "ipython",
        "version": 3
      },
      "file_extension": ".py",
      "mimetype": "text/x-python",
      "name": "python",
      "nbconvert_exporter": "python",
      "pygments_lexer": "ipython3",
      "version": "3.7.6"
    }
  },
  "nbformat": 4,
  "nbformat_minor": 0
}
